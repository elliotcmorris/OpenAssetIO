{
 "cells": [
  {
   "attachments": {},
   "cell_type": "markdown",
   "metadata": {},
   "source": [
    "\n",
    "## Does OpenAssetIO work\n",
    "\n",
    "Lets see. Heavily dependent on published pypi packages, makes c++ examples\n",
    "hard, we'd have to figure something out with a hosted codespace or\n",
    "using our custom docker image."
   ]
  },
  {
   "cell_type": "code",
   "execution_count": 1,
   "metadata": {},
   "outputs": [
    {
     "name": "stdout",
     "output_type": "stream",
     "text": [
      "<module 'openassetio' from '/home/elliotmorris/data/openAssetIO/elliotcmorris/OpenAssetIO/.venv/lib/python3.9/site-packages/openassetio/__init__.py'>\n"
     ]
    }
   ],
   "source": [
    "import openassetio\n",
    "print(openassetio)"
   ]
  }
 ],
 "metadata": {
  "kernelspec": {
   "display_name": "Python 3",
   "language": "python",
   "name": "python3"
  },
  "language_info": {
   "codemirror_mode": {
    "name": "ipython",
    "version": 3
   },
   "file_extension": ".py",
   "mimetype": "text/x-python",
   "name": "python",
   "nbconvert_exporter": "python",
   "pygments_lexer": "ipython3",
   "version": "3.9.16"
  },
  "widgets": {
   "application/vnd.jupyter.widget-state+json": {
    "state": {},
    "version_major": 2,
    "version_minor": 0
   }
  }
 },
 "nbformat": 4,
 "nbformat_minor": 4
}
